{
 "cells": [
  {
   "cell_type": "code",
   "execution_count": 41,
   "metadata": {},
   "outputs": [],
   "source": [
    "import pandas as pd\n",
    "from sqlalchemy import create_engine"
   ]
  },
  {
   "cell_type": "code",
   "execution_count": 42,
   "metadata": {},
   "outputs": [],
   "source": [
    "engine = create_engine('sqlite:///leads.db', echo=True)\n",
    "df = pd.read_csv('places_data.csv')"
   ]
  },
  {
   "cell_type": "code",
   "execution_count": 43,
   "metadata": {},
   "outputs": [],
   "source": [
    "df.insert(0, 'id', range(1, 1 + len(df)))\n",
    "df['contactado'] = 0\n",
    "df['author_id'] = None"
   ]
  },
  {
   "cell_type": "code",
   "execution_count": 44,
   "metadata": {},
   "outputs": [
    {
     "data": {
      "text/html": [
       "<div>\n",
       "<style scoped>\n",
       "    .dataframe tbody tr th:only-of-type {\n",
       "        vertical-align: middle;\n",
       "    }\n",
       "\n",
       "    .dataframe tbody tr th {\n",
       "        vertical-align: top;\n",
       "    }\n",
       "\n",
       "    .dataframe thead th {\n",
       "        text-align: right;\n",
       "    }\n",
       "</style>\n",
       "<table border=\"1\" class=\"dataframe\">\n",
       "  <thead>\n",
       "    <tr style=\"text-align: right;\">\n",
       "      <th></th>\n",
       "      <th>id</th>\n",
       "      <th>name</th>\n",
       "      <th>website</th>\n",
       "      <th>reviews_score</th>\n",
       "      <th>reviews_amount</th>\n",
       "      <th>phone</th>\n",
       "      <th>googlemaps_link</th>\n",
       "      <th>category</th>\n",
       "      <th>zone</th>\n",
       "      <th>contactado</th>\n",
       "      <th>author_id</th>\n",
       "    </tr>\n",
       "  </thead>\n",
       "  <tbody>\n",
       "    <tr>\n",
       "      <th>0</th>\n",
       "      <td>1</td>\n",
       "      <td>COSEHIN</td>\n",
       "      <td>NaN</td>\n",
       "      <td>4.5</td>\n",
       "      <td>47.0</td>\n",
       "      <td>2.664423e+09</td>\n",
       "      <td>https://www.google.com/maps/place/COSEHIN/@-33...</td>\n",
       "      <td>Empresa de fumigaciÃ³n y control de plagas</td>\n",
       "      <td>san luis</td>\n",
       "      <td>0</td>\n",
       "      <td>None</td>\n",
       "    </tr>\n",
       "    <tr>\n",
       "      <th>1</th>\n",
       "      <td>2</td>\n",
       "      <td>Fumigaciones Solube</td>\n",
       "      <td>solube.com</td>\n",
       "      <td>4.7</td>\n",
       "      <td>41.0</td>\n",
       "      <td>2.664658e+09</td>\n",
       "      <td>https://www.google.com/maps/place/Fumigaciones...</td>\n",
       "      <td>Empresa de fumigaciÃ³n y control de plagas</td>\n",
       "      <td>san luis</td>\n",
       "      <td>0</td>\n",
       "      <td>None</td>\n",
       "    </tr>\n",
       "    <tr>\n",
       "      <th>2</th>\n",
       "      <td>3</td>\n",
       "      <td>Grupo Omega Saneamientos San Luis</td>\n",
       "      <td>control-plagas.com.ar</td>\n",
       "      <td>4.9</td>\n",
       "      <td>14.0</td>\n",
       "      <td>2.661543e+11</td>\n",
       "      <td>https://www.google.com/maps/place/Grupo+Omega+...</td>\n",
       "      <td>Empresa de fumigaciÃ³n y control de plagas</td>\n",
       "      <td>san luis</td>\n",
       "      <td>0</td>\n",
       "      <td>None</td>\n",
       "    </tr>\n",
       "    <tr>\n",
       "      <th>3</th>\n",
       "      <td>4</td>\n",
       "      <td>SLM Desinfecciones</td>\n",
       "      <td>NaN</td>\n",
       "      <td>4.3</td>\n",
       "      <td>7.0</td>\n",
       "      <td>2.664667e+09</td>\n",
       "      <td>https://www.google.com/maps/place/SLM+Desinfec...</td>\n",
       "      <td>Empresa de fumigaciÃ³n y control de plagas</td>\n",
       "      <td>san luis</td>\n",
       "      <td>0</td>\n",
       "      <td>None</td>\n",
       "    </tr>\n",
       "    <tr>\n",
       "      <th>4</th>\n",
       "      <td>5</td>\n",
       "      <td>Servicios Integrados</td>\n",
       "      <td>NaN</td>\n",
       "      <td>4.5</td>\n",
       "      <td>2.0</td>\n",
       "      <td>NaN</td>\n",
       "      <td>https://www.google.com/maps/place/Servicios+In...</td>\n",
       "      <td>Empresa de fumigaciÃ³n y control de plagas</td>\n",
       "      <td>san luis</td>\n",
       "      <td>0</td>\n",
       "      <td>None</td>\n",
       "    </tr>\n",
       "  </tbody>\n",
       "</table>\n",
       "</div>"
      ],
      "text/plain": [
       "   id                               name                website  \\\n",
       "0   1                            COSEHIN                    NaN   \n",
       "1   2                Fumigaciones Solube             solube.com   \n",
       "2   3  Grupo Omega Saneamientos San Luis  control-plagas.com.ar   \n",
       "3   4                 SLM Desinfecciones                    NaN   \n",
       "4   5               Servicios Integrados                    NaN   \n",
       "\n",
       "   reviews_score  reviews_amount         phone  \\\n",
       "0            4.5            47.0  2.664423e+09   \n",
       "1            4.7            41.0  2.664658e+09   \n",
       "2            4.9            14.0  2.661543e+11   \n",
       "3            4.3             7.0  2.664667e+09   \n",
       "4            4.5             2.0           NaN   \n",
       "\n",
       "                                     googlemaps_link  \\\n",
       "0  https://www.google.com/maps/place/COSEHIN/@-33...   \n",
       "1  https://www.google.com/maps/place/Fumigaciones...   \n",
       "2  https://www.google.com/maps/place/Grupo+Omega+...   \n",
       "3  https://www.google.com/maps/place/SLM+Desinfec...   \n",
       "4  https://www.google.com/maps/place/Servicios+In...   \n",
       "\n",
       "                                     category      zone  contactado author_id  \n",
       "0  Empresa de fumigaciÃ³n y control de plagas  san luis           0      None  \n",
       "1  Empresa de fumigaciÃ³n y control de plagas  san luis           0      None  \n",
       "2  Empresa de fumigaciÃ³n y control de plagas  san luis           0      None  \n",
       "3  Empresa de fumigaciÃ³n y control de plagas  san luis           0      None  \n",
       "4  Empresa de fumigaciÃ³n y control de plagas  san luis           0      None  "
      ]
     },
     "metadata": {},
     "output_type": "display_data"
    }
   ],
   "source": [
    "display(df.head())"
   ]
  },
  {
   "cell_type": "code",
   "execution_count": 46,
   "metadata": {},
   "outputs": [],
   "source": [
    "df.to_csv('leads.csv', index=False)"
   ]
  }
 ],
 "metadata": {
  "kernelspec": {
   "display_name": "Python 3",
   "language": "python",
   "name": "python3"
  },
  "language_info": {
   "codemirror_mode": {
    "name": "ipython",
    "version": 3
   },
   "file_extension": ".py",
   "mimetype": "text/x-python",
   "name": "python",
   "nbconvert_exporter": "python",
   "pygments_lexer": "ipython3",
   "version": "3.11.8"
  }
 },
 "nbformat": 4,
 "nbformat_minor": 2
}
