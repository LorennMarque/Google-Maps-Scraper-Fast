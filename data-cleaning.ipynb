{
 "cells": [
  {
   "cell_type": "code",
   "execution_count": 1,
   "metadata": {},
   "outputs": [],
   "source": [
    "import pandas as pd\n",
    "from pandas import DataFrame"
   ]
  },
  {
   "cell_type": "code",
   "execution_count": 9,
   "metadata": {},
   "outputs": [
    {
     "data": {
      "text/html": [
       "<div>\n",
       "<style scoped>\n",
       "    .dataframe tbody tr th:only-of-type {\n",
       "        vertical-align: middle;\n",
       "    }\n",
       "\n",
       "    .dataframe tbody tr th {\n",
       "        vertical-align: top;\n",
       "    }\n",
       "\n",
       "    .dataframe thead th {\n",
       "        text-align: right;\n",
       "    }\n",
       "</style>\n",
       "<table border=\"1\" class=\"dataframe\">\n",
       "  <thead>\n",
       "    <tr style=\"text-align: right;\">\n",
       "      <th></th>\n",
       "      <th>Name</th>\n",
       "      <th>Website</th>\n",
       "      <th>Reviews_Score</th>\n",
       "      <th>Reviews_Amount</th>\n",
       "      <th>Phone number</th>\n",
       "      <th>GoogleMaps Link</th>\n",
       "    </tr>\n",
       "  </thead>\n",
       "  <tbody>\n",
       "    <tr>\n",
       "      <th>0</th>\n",
       "      <td>Aeropuerto Internacional Domingo Faustino Sarm...</td>\n",
       "      <td>aa2000.com.ar</td>\n",
       "      <td>3.9</td>\n",
       "      <td>392</td>\n",
       "      <td>0264 425-4133</td>\n",
       "      <td>https://www.google.com/maps/place/Aeropuerto+I...</td>\n",
       "    </tr>\n",
       "    <tr>\n",
       "      <th>1</th>\n",
       "      <td>Aeroclub San Juan</td>\n",
       "      <td>0</td>\n",
       "      <td>4.7</td>\n",
       "      <td>116</td>\n",
       "      <td>0264 424-0219</td>\n",
       "      <td>https://www.google.com/maps/place/Aeroclub+San...</td>\n",
       "    </tr>\n",
       "    <tr>\n",
       "      <th>2</th>\n",
       "      <td>Estacionamiento de Aeropuerto Internacional de...</td>\n",
       "      <td>0</td>\n",
       "      <td>4.0</td>\n",
       "      <td>1</td>\n",
       "      <td>0</td>\n",
       "      <td>https://www.google.com/maps/place/Estacionamie...</td>\n",
       "    </tr>\n",
       "    <tr>\n",
       "      <th>3</th>\n",
       "      <td>Aeroclub La Laja</td>\n",
       "      <td>0</td>\n",
       "      <td>4.6</td>\n",
       "      <td>8</td>\n",
       "      <td>0264 15-504-3363</td>\n",
       "      <td>https://www.google.com/maps/place/Aeroclub+La+...</td>\n",
       "    </tr>\n",
       "  </tbody>\n",
       "</table>\n",
       "</div>"
      ],
      "text/plain": [
       "                                                Name        Website  \\\n",
       "0  Aeropuerto Internacional Domingo Faustino Sarm...  aa2000.com.ar   \n",
       "1                                  Aeroclub San Juan              0   \n",
       "2  Estacionamiento de Aeropuerto Internacional de...              0   \n",
       "3                                   Aeroclub La Laja              0   \n",
       "\n",
       "   Reviews_Score  Reviews_Amount      Phone number  \\\n",
       "0            3.9             392     0264 425-4133   \n",
       "1            4.7             116     0264 424-0219   \n",
       "2            4.0               1                 0   \n",
       "3            4.6               8  0264 15-504-3363   \n",
       "\n",
       "                                     GoogleMaps Link  \n",
       "0  https://www.google.com/maps/place/Aeropuerto+I...  \n",
       "1  https://www.google.com/maps/place/Aeroclub+San...  \n",
       "2  https://www.google.com/maps/place/Estacionamie...  \n",
       "3  https://www.google.com/maps/place/Aeroclub+La+...  "
      ]
     },
     "execution_count": 9,
     "metadata": {},
     "output_type": "execute_result"
    }
   ],
   "source": [
    "pd.read_csv(\"places_data.csv\")"
   ]
  }
 ],
 "metadata": {
  "kernelspec": {
   "display_name": "Python 3",
   "language": "python",
   "name": "python3"
  },
  "language_info": {
   "codemirror_mode": {
    "name": "ipython",
    "version": 3
   },
   "file_extension": ".py",
   "mimetype": "text/x-python",
   "name": "python",
   "nbconvert_exporter": "python",
   "pygments_lexer": "ipython3",
   "version": "3.11.7"
  }
 },
 "nbformat": 4,
 "nbformat_minor": 2
}
